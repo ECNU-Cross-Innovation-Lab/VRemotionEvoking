{
 "cells": [
  {
   "cell_type": "code",
   "execution_count": null,
   "id": "5692ef20",
   "metadata": {},
   "outputs": [],
   "source": [
    "import os\n",
    "from os import path\n",
    "import pandas as pd\n",
    "url = r'./newDataset/'\n",
    "file = os.listdir(url)\n",
    "urllist = []\n",
    "for f in file:\n",
    "    real_url = path.join (url ,f)\n",
    "    urllist.append(real_url)"
   ]
  },
  {
   "cell_type": "code",
   "execution_count": null,
   "id": "e9cc3113",
   "metadata": {},
   "outputs": [],
   "source": [
    "#ROCindex(post - pre/ pre)\n",
    "roclist = []"
   ]
  },
  {
   "cell_type": "code",
   "execution_count": null,
   "id": "91afad93",
   "metadata": {},
   "outputs": [],
   "source": [
    "#ROCindex(post - pre/ pre)\n",
    "for item in urllist:\n",
    "#     if not ((\"15\" in item) or (\"29\" in item)):\n",
    "        print(item)\n",
    "        rocurl = path.join(item, 'after\\mydata.txt')\n",
    "        with open(rocurl) as f:\n",
    "            allline = []\n",
    "            for line in f:\n",
    "                if line == 'miss\\n' or line == 'miss':\n",
    "                    allline.append(0.8)\n",
    "                else:\n",
    "                    allline.append(float(line))\n",
    "            postavg = sum(allline) / len(allline)\n",
    "        rocurl = path.join(item, 'pre\\mydata.txt')\n",
    "        with open(rocurl) as f:\n",
    "            allline = []\n",
    "            for line in f:\n",
    "                if line == 'miss\\n' or line == 'miss':\n",
    "                    allline.append(0.8)\n",
    "                else:\n",
    "                    allline.append(float(line))\n",
    "            preavg = sum(allline) / len(allline)\n",
    "        roclist.append((postavg - preavg) / preavg)\n",
    "        roclist.append((postavg - preavg) / preavg)\n",
    "        roclist.append((postavg - preavg) / preavg)\n",
    "#        rocbox.append((postavg - preavg) / preavg)\n",
    "#         rocbox.append((postavg - preavg) / preavg)\n",
    "#         rocbox.append((postavg - preavg) / preavg)"
   ]
  },
  {
   "cell_type": "code",
   "execution_count": null,
   "id": "84a43a4c",
   "metadata": {},
   "outputs": [],
   "source": [
    "import csv\n",
    "import numpy as np\n",
    "\n",
    "#方差（后）\n",
    "leftpupil = []\n",
    "rightpupil = []\n",
    "leftopenness = []\n",
    "rightopenness = []\n",
    "\n",
    "#方差（前）\n",
    "leftpupilPre = []\n",
    "rightpupilPre = []\n",
    "leftopennessPre = []\n",
    "rightopennessPre = []\n",
    "\n",
    "#均值（后）\n",
    "mleftpupil = []\n",
    "mrightpupil = []\n",
    "mleftopenness = []\n",
    "mrightopenness = []\n",
    "\n",
    "#均值（前）\n",
    "mleftpupilPre = []\n",
    "mrightpupilPre = []\n",
    "mleftopennessPre = []\n",
    "mrightopennessPre = []\n",
    "\n",
    "equipment = []\n",
    "labellist = []"
   ]
  },
  {
   "cell_type": "code",
   "execution_count": null,
   "id": "687d84c1",
   "metadata": {},
   "outputs": [],
   "source": [
    "#ROC index\n",
    "#左眼openness均值\n",
    "#右眼openness均值\n",
    "#左眼瞳孔大小均值\n",
    "#右眼瞳孔大小均值\n",
    "#左眼openness方差\n",
    "#右眼openness方差\n",
    "#左眼瞳孔大小方差\n",
    "#右眼瞳孔大小方差\n",
    "#equipment VR:0 2D:1\n",
    "#label HVHA:0 LVLA:1 LVHA:2 HVLA:3\n",
    "\n",
    "for item in urllist:\n",
    "    rocurl = path.join(item, 'pre\\otherdata.csv')\n",
    "    with open(rocurl) as f:\n",
    "        row = csv.reader(f, delimiter=',')\n",
    "        next(row)\n",
    "        print(rocurl)\n",
    "        allline = [[], [], [], [], [], [], [], [], [], [], [], []]\n",
    "        cnt = 0\n",
    "        for r in row:\n",
    "            if(len(r) == 5):\n",
    "                if(not((r[0] == -1 or r[1] == -1))):\n",
    "                    allline[0 + 4*cnt].append(float(r[0]))\n",
    "                    allline[1 + 4*cnt].append(float(r[1]))\n",
    "                allline[2 + 4*cnt].append(float(r[2]))\n",
    "                allline[3 + 4*cnt].append(float(r[3]))\n",
    "            cnt = (cnt + 1) % 3\n",
    "                    \n",
    "        leftopennessPre.append(np.var(allline[0]))\n",
    "        rightopennessPre.append(np.var(allline[1]))\n",
    "        leftpupilPre.append(np.var(allline[2]))\n",
    "        rightpupilPre.append(np.var(allline[3]))\n",
    "        \n",
    "        leftopennessPre.append(np.var(allline[4]))\n",
    "        rightopennessPre.append(np.var(allline[5]))\n",
    "        leftpupilPre.append(np.var(allline[6]))\n",
    "        rightpupilPre.append(np.var(allline[7]))\n",
    "        \n",
    "        leftopennessPre.append(np.var(allline[8]))\n",
    "        rightopennessPre.append(np.var(allline[9]))\n",
    "        leftpupilPre.append(np.var(allline[10]))\n",
    "        rightpupilPre.append(np.var(allline[11]))\n",
    "        \n",
    "        mleftopennessPre.append(np.mean(allline[0]))\n",
    "        mrightopennessPre.append(np.mean(allline[1]))\n",
    "        mleftpupilPre.append(np.mean(allline[2]))\n",
    "        mrightpupilPre.append(np.mean(allline[3]))\n",
    "        \n",
    "        mleftopennessPre.append(np.mean(allline[4]))\n",
    "        mrightopennessPre.append(np.mean(allline[5]))\n",
    "        mleftpupilPre.append(np.mean(allline[6]))\n",
    "        mrightpupilPre.append(np.mean(allline[7]))\n",
    "        \n",
    "        mleftopennessPre.append(np.mean(allline[8]))\n",
    "        mrightopennessPre.append(np.mean(allline[9]))\n",
    "        mleftpupilPre.append(np.mean(allline[10]))\n",
    "        mrightpupilPre.append(np.mean(allline[11]))\n",
    "\n",
    "i = 0\n",
    "  \n",
    "#allline:把每个样本均分成3组，第一组0，1，2，3，第二组4，5，6，7，第三组8，9，10，11    \n",
    "#消除量纲：(post - pre) / pre\n",
    "\n",
    "for item in urllist:\n",
    "    rocurl = path.join(item, 'after\\otherdata.csv')\n",
    "    with open(rocurl) as f:\n",
    "        row = csv.reader(f, delimiter=',')\n",
    "        next(row)\n",
    "        print(rocurl)\n",
    "        allline = [[], [], [], [], [], [], [], [], [], [], [], []]\n",
    "        cnt = 0\n",
    "        for r in row:\n",
    "            if(len(r) == 5):\n",
    "                if(not((r[0] == -1 or r[1] == -1))):\n",
    "                    allline[0 + 4*cnt].append(float(r[0]))\n",
    "                    allline[1 + 4*cnt].append(float(r[1]))\n",
    "                allline[2 + 4*cnt].append(float(r[2]))\n",
    "                allline[3 + 4*cnt].append(float(r[3]))\n",
    "            cnt = (cnt + 1) % 3\n",
    "            \n",
    "        leftopenness.append(np.var(allline[0]))\n",
    "        rightopenness.append(np.var(allline[1]))\n",
    "        leftpupil.append(np.var(allline[2]))\n",
    "        rightpupil.append(np.var(allline[3]))\n",
    "        \n",
    "        leftopenness.append(np.var(allline[4]))\n",
    "        rightopenness.append(np.var(allline[5])) \n",
    "        leftpupil.append(np.var(allline[6])) \n",
    "        rightpupil.append(np.var(allline[7])) \n",
    "        \n",
    "        leftopenness.append(np.var(allline[8]))\n",
    "        rightopenness.append(np.var(allline[9])) \n",
    "        leftpupil.append(np.var(allline[10]) )\n",
    "        rightpupil.append(np.var(allline[11]))\n",
    "        \n",
    "        mleftopenness.append(np.mean(allline[0])) \n",
    "        mrightopenness.append(np.mean(allline[1])) \n",
    "        mleftpupil.append(np.mean(allline[2]) )\n",
    "        mrightpupil.append(np.mean(allline[3]) )\n",
    "        \n",
    "        mleftopenness.append(np.mean(allline[4]))\n",
    "        mrightopenness.append(np.mean(allline[5]))\n",
    "        mleftpupil.append(np.mean(allline[6]))\n",
    "        mrightpupil.append(np.mean(allline[7]))\n",
    "        \n",
    "        mleftopenness.append(np.mean(allline[8]))\n",
    "        mrightopenness.append(np.mean(allline[9]))\n",
    "        mleftpupil.append(np.mean(allline[10]))\n",
    "        mrightpupil.append(np.mean(allline[11]))\n",
    "        \n",
    "        i = i + 3\n",
    "        \n",
    "        \n",
    "        if \"2D\" in rocurl:\n",
    "            equipment.append(1)\n",
    "            equipment.append(1)\n",
    "            equipment.append(1)\n",
    "        else:\n",
    "            equipment.append(0)\n",
    "            equipment.append(0)\n",
    "            equipment.append(0)\n",
    "        if \"HVHA\" in rocurl:\n",
    "            labellist.append(0)\n",
    "            labellist.append(0)\n",
    "            labellist.append(0)\n",
    "        elif \"LVLA\" in rocurl:\n",
    "            labellist.append(1)\n",
    "            labellist.append(1)\n",
    "            labellist.append(1)\n",
    "        elif \"LVHA\" in rocurl:\n",
    "            labellist.append(2)\n",
    "            labellist.append(2)\n",
    "            labellist.append(2)\n",
    "        elif \"HVLA\" in rocurl:\n",
    "            labellist.append(3)\n",
    "            labellist.append(3)\n",
    "            labellist.append(3)"
   ]
  },
  {
   "cell_type": "code",
   "execution_count": null,
   "id": "07acfa6c",
   "metadata": {},
   "outputs": [],
   "source": [
    "#ROC index\n",
    "#左眼openness均值\n",
    "#右眼openness均值\n",
    "#左眼瞳孔大小均值\n",
    "#右眼瞳孔大小均值\n",
    "#左眼openness方差\n",
    "#右眼openness方差\n",
    "#左眼瞳孔大小方差\n",
    "#右眼瞳孔大小方差\n",
    "#equipment VR:0 2D:1\n",
    "#label HVHA:0 LVLA:1 LVHA:2 HVLA:3\n",
    "\n",
    "import csv\n",
    " \n",
    "#  1.创建文件对象\n",
    "f = open('t_test.csv', 'w', encoding='utf-8', newline=\"\")\n",
    " \n",
    "#  2.基于文件对象构建csv写入对象\n",
    "csv_write = csv.writer(f)\n",
    " \n",
    "#  3.构建列表头\n",
    "csv_write.writerow(['ROCindex', \n",
    "                    'afterLeftEyeOpennessMean', 'afterRightEyeOpennessMean', 'afterLeftPupilDiameterMean', 'afterRightPupilDiameterMean', \n",
    "                    'PreLeftEyeOpennessMean', 'PreRightEyeOpennessMean', 'PreLeftPupilDiameterMean', 'PreRightPupilDiameterMean',\n",
    "                    \n",
    "                    'afterLeftEyeOpennessVar', 'afterRightEyeOpennessVar', 'afterLeftPupilDiameterVar', 'afterRightPupilDiameterVar', \n",
    "                    'PreLeftEyeOpennessVar', 'PreRightEyeOpennessVar', 'PreLeftPupilDiameterVar', 'PreRightPupilDiameterVar',\n",
    "                    \n",
    "                    \n",
    "                    'Equipment', 'Label'])\n",
    " \n",
    "#  4.写入csv文件\n",
    "for i in range(len(roclist)):\n",
    "    csv_write.writerow([roclist[i], \n",
    "                        mleftopenness[i], mrightopenness[i], mleftpupil[i], mrightpupil[i],\n",
    "                        mleftopennessPre[i], mrightopennessPre[i], mleftpupilPre[i], mrightpupilPre[i],\n",
    "                        \n",
    "                        leftopenness[i], rightopenness[i], leftpupil[i], rightpupil[i],\n",
    "                        leftopennessPre[i], rightopennessPre[i], leftpupilPre[i], rightpupilPre[i],\n",
    "                        \n",
    "                        equipment[i], labellist[i]])\n",
    "\n",
    "#  5.关闭文件\n",
    "f.close()"
   ]
  },
  {
   "cell_type": "code",
   "execution_count": null,
   "id": "64402e73",
   "metadata": {},
   "outputs": [],
   "source": [
    "df = pd.read_csv(r't_test.csv')"
   ]
  },
  {
   "cell_type": "code",
   "execution_count": null,
   "id": "d5de68a0",
   "metadata": {},
   "outputs": [],
   "source": [
    "from scipy.stats import ttest_rel\n",
    "A = df[\"afterLeftEyeOpennessVar\"]\n",
    "B = df[\"PreLeftEyeOpennessVar\"]\n",
    "print(ttest_rel(A,B))"
   ]
  },
  {
   "cell_type": "code",
   "execution_count": null,
   "id": "dcd3a929",
   "metadata": {},
   "outputs": [],
   "source": [
    "from scipy.stats import ttest_rel\n",
    "A = df[\"afterRightEyeOpennessVar\"]\n",
    "B = df[\"PreRightEyeOpennessVar\"]\n",
    "print(ttest_rel(A,B))"
   ]
  },
  {
   "cell_type": "code",
   "execution_count": null,
   "id": "d6d91014",
   "metadata": {},
   "outputs": [],
   "source": [
    "from scipy.stats import ttest_rel\n",
    "A = df[\"afterLeftPupilDiameterVar\"]\n",
    "B = df[\"PreLeftPupilDiameterVar\"]\n",
    "print(ttest_rel(A,B))"
   ]
  },
  {
   "cell_type": "code",
   "execution_count": null,
   "id": "e6b87426",
   "metadata": {},
   "outputs": [],
   "source": [
    "from scipy.stats import ttest_rel\n",
    "A = df[\"afterRightPupilDiameterVar\"]\n",
    "B = df[\"PreRightPupilDiameterVar\"]\n",
    "print(ttest_rel(A,B))"
   ]
  },
  {
   "cell_type": "code",
   "execution_count": null,
   "id": "11118979",
   "metadata": {},
   "outputs": [],
   "source": [
    "from scipy.stats import ttest_rel\n",
    "A = df[\"afterLeftEyeOpennessMean\"]\n",
    "B = df[\"PreLeftEyeOpennessMean\"]\n",
    "print(ttest_rel(A,B))"
   ]
  },
  {
   "cell_type": "code",
   "execution_count": null,
   "id": "6cb83e55",
   "metadata": {},
   "outputs": [],
   "source": [
    "from scipy.stats import ttest_rel\n",
    "A = df[\"afterRightEyeOpennessMean\"]\n",
    "B = df[\"PreRightEyeOpennessMean\"]\n",
    "print(ttest_rel(A,B))"
   ]
  },
  {
   "cell_type": "code",
   "execution_count": null,
   "id": "b340d0ef",
   "metadata": {},
   "outputs": [],
   "source": [
    "from scipy.stats import ttest_rel\n",
    "A = df[\"afterLeftPupilDiameterMean\"]\n",
    "B = df[\"PreLeftPupilDiameterMean\"]\n",
    "print(ttest_rel(A,B))"
   ]
  },
  {
   "cell_type": "code",
   "execution_count": null,
   "id": "c974bd05",
   "metadata": {},
   "outputs": [],
   "source": [
    "from scipy.stats import ttest_rel\n",
    "A = df[\"afterRightPupilDiameterMean\"]\n",
    "B = df[\"PreRightPupilDiameterMean\"]\n",
    "print(ttest_rel(A,B))"
   ]
  },
  {
   "cell_type": "code",
   "execution_count": null,
   "id": "e45a7b44",
   "metadata": {},
   "outputs": [],
   "source": [
    "import pandas as pd\n",
    "import numpy as np\n",
    "import matplotlib.pyplot as plt\n",
    "import seaborn as sns\n",
    "from pandas.core.frame import DataFrame\n",
    "import warnings\n",
    "warnings.filterwarnings(\"ignore\")\n",
    "plt.rcParams['font.sans-serif'] = ['SimHei']\n",
    "plt.rcParams['axes.unicode_minus']=False\n",
    "\n",
    "mydata = pd.read_csv('dataset.csv') \n",
    "mydata.columns = ['ROCindex', 'LeftEyeOpennessVar', 'RightEyeOpennessVar', 'LeftPupilDiameterVar', 'RightPupilDiameterVar', \n",
    "                    'LeftEyeOpennessMean', 'RightEyeOpennessMean', 'LeftPupilDiameterMean', 'RightPupilDiameterMean',\n",
    "                    'Equipment', 'Label']\n",
    "mydata_label = mydata['Label']\n",
    "mydata_feature = mydata.drop(['Label'], axis=1)"
   ]
  },
  {
   "cell_type": "code",
   "execution_count": null,
   "id": "d980bf9c",
   "metadata": {},
   "outputs": [],
   "source": [
    "mydata_feature_coor = mydata_feature.corr()\n",
    "fig, ax = plt.subplots(figsize=(10, 10),facecolor='w')\n",
    "#sns.heatmap(mydata_feature_coor,annot=True, vmax=1, square=True,  fmt='.2g')\n",
    "\n",
    "sns.heatmap(mydata_feature_coor,annot=True, vmax=1, square=True,cmap=\"Reds\",  fmt='.2g')  # 颜色参数cmap\n",
    "#plt.title('相关性热力图')\n",
    "cax = plt.gcf().axes[-1]\n",
    "cax.tick_params(labelsize=15) \n",
    "plt.xticks(fontsize=15)\n",
    "plt.yticks(fontsize=15)\n",
    "plt.show()"
   ]
  },
  {
   "cell_type": "code",
   "execution_count": null,
   "id": "e6c78957",
   "metadata": {},
   "outputs": [],
   "source": [
    "df = pd.read_csv(\"dataset.csv\")\n",
    "lf=DataFrame()\n",
    "rf=DataFrame()\n",
    "lf[\"EyeOpennessVar\"] = df[\"LeftEyeOpennessVar\"]\n",
    "lf[\"EyeOpennessMean\"] = df[\"LeftEyeOpennessMean\"]\n",
    "lf[\"PupilDiameterVar\"] = df[\"LeftPupilDiameterVar\"]\n",
    "\n",
    "lf[\"PupilDiameterMean\"] = df[\"LeftPupilDiameterMean\"]\n",
    "lf[\"Label\"] = df[\"Label\"]\n",
    "lf[\"Equipment\"]=df[\"Equipment\"]\n",
    "lf[\"lr\"]=\"l\"\n",
    "lf.to_csv(\"lf.csv\")\n",
    "\n",
    "rf[\"EyeOpennessVar\"] = df[\"RightEyeOpennessVar\"]\n",
    "rf[\"EyeOpennessMean\"] = df[\"RightEyeOpennessMean\"]\n",
    "rf[\"PupilDiameterVar\"] = df[\"RightPupilDiameterVar\"]\n",
    "rf[\"PupilDiameterMean\"] = df[\"RightPupilDiameterMean\"]\n",
    "rf[\"Label\"] = df[\"Label\"]\n",
    "rf[\"Equipment\"]=df[\"Equipment\"]\n",
    "rf[\"lr\"]=\"r\"\n",
    "rf.to_csv(\"rf.csv\")"
   ]
  },
  {
   "cell_type": "code",
   "execution_count": null,
   "id": "92c43336",
   "metadata": {},
   "outputs": [],
   "source": [
    "f1 = pd.read_csv(\"lf.csv\")    \n",
    "f2 = pd.read_csv(\"rf.csv\")\n",
    "file = [f1,f2]\n",
    "mm = pd.concat(file,axis=0)"
   ]
  },
  {
   "cell_type": "code",
   "execution_count": null,
   "id": "f012a97d",
   "metadata": {},
   "outputs": [],
   "source": [
    "sns.set(style='ticks', font_scale=1.2)\n",
    "ax = sns.boxplot(\n",
    "    x=mm['Label'],\n",
    "    y=mm['PupilDiameterMean'],\n",
    "    hue=mm[\"lr\"],\n",
    "    fliersize=2\n",
    ")\n",
    "plt.legend(loc='lower right')"
   ]
  },
  {
   "cell_type": "code",
   "execution_count": null,
   "id": "9012e5a7",
   "metadata": {},
   "outputs": [],
   "source": [
    "sns.set(style='ticks', font_scale=1.2)\n",
    "ax = sns.boxplot(\n",
    "    x=mm['Label'],\n",
    "    y=mm['PupilDiameterVar'],\n",
    "    hue=mm[\"lr\"],\n",
    "    fliersize=2\n",
    ")\n",
    "plt.legend(loc='best')"
   ]
  },
  {
   "cell_type": "code",
   "execution_count": null,
   "id": "2b1e4f97",
   "metadata": {},
   "outputs": [],
   "source": [
    "sns.set(style='ticks', font_scale=1.2)\n",
    "ax = sns.boxplot(\n",
    "    x=mm['Label'],\n",
    "    y=mm['EyeOpennessMean'],\n",
    "    hue=mm[\"lr\"],\n",
    "    fliersize=2\n",
    ")\n",
    "plt.legend(loc='best')"
   ]
  },
  {
   "cell_type": "code",
   "execution_count": null,
   "id": "3c60806a",
   "metadata": {},
   "outputs": [],
   "source": [
    "sns.set(style='ticks', font_scale=1.2)\n",
    "ax = sns.boxplot(\n",
    "    x=mm['Label'],\n",
    "    y=mm['EyeOpennessVar'],\n",
    "    hue=mm[\"lr\"],fliersize=2\n",
    ")\n",
    "plt.legend(loc='best')"
   ]
  },
  {
   "cell_type": "code",
   "execution_count": null,
   "id": "0cbb07ff",
   "metadata": {},
   "outputs": [],
   "source": [
    "uu = DataFrame() \n",
    "q_low = mm[\"EyeOpennessVar\"].quantile(0.02)\n",
    "q_hi  = mm[\"EyeOpennessVar\"].quantile(0.98)\n",
    "uu = mm[(mm[\"EyeOpennessVar\"] <= q_hi) & (mm[\"EyeOpennessVar\"] >= q_low)]"
   ]
  },
  {
   "cell_type": "code",
   "execution_count": null,
   "id": "7c1dc77b",
   "metadata": {},
   "outputs": [],
   "source": [
    "sns.set(style='ticks', font_scale=1.2)\n",
    "ax = sns.boxplot(\n",
    "    x=uu['Label'],\n",
    "    y=uu['EyeOpennessVar'],\n",
    "    hue=uu[\"lr\"],fliersize=2\n",
    ")\n",
    "plt.legend(loc='best')"
   ]
  },
  {
   "cell_type": "code",
   "execution_count": null,
   "id": "4d325fc8",
   "metadata": {},
   "outputs": [],
   "source": [
    "sns.set(style='ticks', font_scale=1.2)\n",
    "ax = sns.boxplot(\n",
    "    x=mydata['Label'],\n",
    "    y=mydata['ROCindex'],fliersize=2\n",
    ")"
   ]
  },
  {
   "cell_type": "code",
   "execution_count": null,
   "id": "66983e5d",
   "metadata": {},
   "outputs": [],
   "source": [
    "sns.set(style='ticks', font_scale=1.2)\n",
    "ax = sns.boxplot(\n",
    "    x=mm['Label'],\n",
    "    y=mm['EyeOpennessMean'],\n",
    "    hue=mm[\"Equipment\"],fliersize=2\n",
    ")"
   ]
  },
  {
   "cell_type": "code",
   "execution_count": null,
   "id": "f6f0ccb4",
   "metadata": {},
   "outputs": [],
   "source": [
    "sns.set(style='ticks', font_scale=1.2)\n",
    "ax = sns.boxplot(\n",
    "    x=mm['Label'],\n",
    "    y=mm['EyeOpennessVar'],\n",
    "    hue=mm[\"Equipment\"],fliersize=2\n",
    ")"
   ]
  },
  {
   "cell_type": "code",
   "execution_count": null,
   "id": "e9e355c9",
   "metadata": {},
   "outputs": [],
   "source": [
    "sns.set(style='ticks', font_scale=1.2)\n",
    "ax = sns.boxplot(\n",
    "    x=mm['Label'],\n",
    "    y=mm['PupilDiameterMean'],\n",
    "    hue=mm[\"Equipment\"],fliersize=2\n",
    ")"
   ]
  },
  {
   "cell_type": "code",
   "execution_count": null,
   "id": "91386e62",
   "metadata": {},
   "outputs": [],
   "source": [
    "sns.set(style='ticks', font_scale=1.2)\n",
    "ax = sns.boxplot(\n",
    "    x=mm['Label'],\n",
    "    y=mm['PupilDiameterVar'],\n",
    "    hue=mm[\"Equipment\"],fliersize=2\n",
    ")"
   ]
  },
  {
   "cell_type": "code",
   "execution_count": null,
   "id": "eb46d627",
   "metadata": {},
   "outputs": [],
   "source": [
    "nn.plot(kind = \"density\",\n",
    "         subplots = True,\n",
    "         layout = (2,2),\n",
    "         sharex = False,\n",
    "         figsize=(15,10))"
   ]
  },
  {
   "cell_type": "code",
   "execution_count": null,
   "id": "94a7bbec",
   "metadata": {},
   "outputs": [],
   "source": [
    "mydata_feature = mydata_feature.drop([\"Equipment\"],axis=1)\n",
    "mydata_feature.plot(kind = \"box\",\n",
    "         subplots = True,\n",
    "         fontsize=12,\n",
    "         layout = (3,3),\n",
    "         sharex = False,\n",
    "         figsize=(15,10))"
   ]
  },
  {
   "cell_type": "code",
   "execution_count": null,
   "id": "a03d3e0e",
   "metadata": {},
   "outputs": [],
   "source": [
    "mydata_feature.hist(figsize=(15,13))\n",
    "plt.show()"
   ]
  },
  {
   "cell_type": "code",
   "execution_count": null,
   "id": "9ad8c17c",
   "metadata": {},
   "outputs": [],
   "source": [
    "ax = sns.countplot(x=mydata[\"Equipment\"],\n",
    "             data = mydata)\n",
    "#ax.set_title(\"Counts Plot\", fontsize = 20)\n",
    "plt.xlabel(\"Equipment\",fontsize=15)\n",
    "plt.ylabel(\"Count\", fontsize=15)\n",
    "mydata.loc[:,\"Equipment\"].value_counts()"
   ]
  },
  {
   "cell_type": "code",
   "execution_count": null,
   "id": "178d10f3",
   "metadata": {},
   "outputs": [],
   "source": []
  },
  {
   "cell_type": "code",
   "execution_count": null,
   "id": "2020ae9c",
   "metadata": {},
   "outputs": [],
   "source": []
  },
  {
   "cell_type": "code",
   "execution_count": null,
   "id": "a13db226",
   "metadata": {},
   "outputs": [],
   "source": []
  }
 ],
 "metadata": {
  "kernelspec": {
   "display_name": "Python 3",
   "language": "python",
   "name": "python3"
  },
  "language_info": {
   "codemirror_mode": {
    "name": "ipython",
    "version": 3
   },
   "file_extension": ".py",
   "mimetype": "text/x-python",
   "name": "python",
   "nbconvert_exporter": "python",
   "pygments_lexer": "ipython3",
   "version": "3.8.8"
  },
  "nbTranslate": {
   "displayLangs": [
    "*"
   ],
   "hotkey": "alt-t",
   "langInMainMenu": true,
   "sourceLang": "en",
   "targetLang": "fr",
   "useGoogleTranslate": true
  },
  "toc": {
   "base_numbering": 1,
   "nav_menu": {},
   "number_sections": true,
   "sideBar": true,
   "skip_h1_title": false,
   "title_cell": "Table of Contents",
   "title_sidebar": "Contents",
   "toc_cell": false,
   "toc_position": {},
   "toc_section_display": true,
   "toc_window_display": false
  },
  "varInspector": {
   "cols": {
    "lenName": 16,
    "lenType": 16,
    "lenVar": 40
   },
   "kernels_config": {
    "python": {
     "delete_cmd_postfix": "",
     "delete_cmd_prefix": "del ",
     "library": "var_list.py",
     "varRefreshCmd": "print(var_dic_list())"
    },
    "r": {
     "delete_cmd_postfix": ") ",
     "delete_cmd_prefix": "rm(",
     "library": "var_list.r",
     "varRefreshCmd": "cat(var_dic_list()) "
    }
   },
   "types_to_exclude": [
    "module",
    "function",
    "builtin_function_or_method",
    "instance",
    "_Feature"
   ],
   "window_display": false
  }
 },
 "nbformat": 4,
 "nbformat_minor": 5
}
